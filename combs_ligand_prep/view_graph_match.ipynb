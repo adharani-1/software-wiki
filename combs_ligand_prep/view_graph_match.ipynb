{
 "cells": [
  {
   "cell_type": "code",
   "execution_count": null,
   "metadata": {},
   "outputs": [],
   "source": [
    "# use /nfs/polizzi/jmou/miniconda3/envs/graph_matcher/bin/python"
   ]
  },
  {
   "cell_type": "code",
   "execution_count": null,
   "metadata": {},
   "outputs": [],
   "source": [
    "import sys\n",
    "sys.path.append('/nfs/polizzi/shared/programs/chemistry/graph-search-ligand-approximation/')\n"
   ]
  },
  {
   "cell_type": "code",
   "execution_count": null,
   "metadata": {},
   "outputs": [],
   "source": [
    "from graph_matcher.fragmentation_visualizer import FragmentationVisualizer\n",
    "lig = 'LVY'\n",
    "\n",
    "mol2_path = f'../mol2/{lig}.mol2'\n",
    "ligand_pdb_out = f'../pdb/{lig}.pdb'\n",
    "\n",
    "ligand_txt = f'../ligand_txt/{lig}.txt'\n",
    "\n",
    "fv = FragmentationVisualizer(mol2_path, ligand_pdb_out, ligand_txt, protein_pdb_path=None, width=1000, height=600)\n",
    "\n"
   ]
  }
 ],
 "metadata": {
  "language_info": {
   "name": "python"
  }
 },
 "nbformat": 4,
 "nbformat_minor": 2
}
